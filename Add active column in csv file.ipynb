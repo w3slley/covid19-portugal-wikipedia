{
 "cells": [
  {
   "cell_type": "code",
   "execution_count": 1,
   "metadata": {},
   "outputs": [],
   "source": [
    "import pandas as pd"
   ]
  },
  {
   "cell_type": "code",
   "execution_count": 43,
   "metadata": {},
   "outputs": [],
   "source": [
    "data = pd.read_csv('portugal_data.csv')\n",
    "active_wikipedia = [0, 4, 6, 9, 13, 21, 30, 39, 41, 59, 78, 112, 169, 245, 328, 444, 638, 779, 1009, 1263, 1580, 2023, 2307, 2930, 3441, 4149, 5027, 5800, 6225, 7240, 8021, 8757, 9572, 10183, 10908, 11279, 11913, 12565, 13342, 14804, 15251, 15804, 16122, 16534, 17109, 17719, 17846, 18388, 18882, 19518, 19700, 20054, 20332, 20715, 21235, 21632, 21742, 21985, 22062, 22548, 22697, 22496, 22550, 22749, 22885, 23017, 23352, 23732, 23781, 23897, 23986, 23737, 23775, 23937, 24065, 23785, 23182, 21548, 21754, 21945, 22183, 21321, 21464, 11758, 11636, 11569, 11587, 11590, 11652, 11621, 11681, 11724, 11590, 11735, 11814, 11978, 12070, 12219, 12244, 12475, 12361, 12404, 12475, 12513, 12504, 12664, 12602, 12569, 12555, 12460, 12407, 12227, 12310, 12368, 12478, 12484, 12678, 12764, 13016, 13139, 13060, 13077, 13098, 13134, 13192, 13266, 13343, 13342, 13514, 13584, 13883, 13912, 13945, 14091, 13833, 13640, 13610, 13605, 13553, 13578, 13533, 13432, 13449, 13305, 13293, 13229, 13230, 13205, 13062, 13013, 13001, 12854, 12790, 12741, 12720, 12624, 12543, 12478, 12518, 12423, 12401, 12466, 12424, 12519, 12601, 12637, 12621, 12627, 12655, 12728, 12786, 12940, 12946, 13006, 13027, 13039, 13086, 13283, 13507, 13703, 13864]\n",
    "#data['active'] = active_wikipedia\n",
    "#data.to_csv('portugal_data.csv', index=False)\n",
    "active_cases = []\n",
    "for i in range(len(data)):\n",
    "    #a = data['active'].iloc[i]\n",
    "    b = data['total_cases'].iloc[i]-data['total_deaths'].iloc[i]-data['recovered'].iloc[i]\n",
    "    #diff = a-b\n",
    "    active_cases.append(b)\n",
    "data['active_cases'] = active_cases\n",
    "#data.to_csv('portugal_data.csv', index=False)"
   ]
  },
  {
   "cell_type": "code",
   "execution_count": null,
   "metadata": {},
   "outputs": [],
   "source": []
  }
 ],
 "metadata": {
  "kernelspec": {
   "display_name": "Python 3",
   "language": "python",
   "name": "python3"
  },
  "language_info": {
   "codemirror_mode": {
    "name": "ipython",
    "version": 3
   },
   "file_extension": ".py",
   "mimetype": "text/x-python",
   "name": "python",
   "nbconvert_exporter": "python",
   "pygments_lexer": "ipython3",
   "version": "3.8.2"
  }
 },
 "nbformat": 4,
 "nbformat_minor": 4
}
